{
 "cells": [
  {
   "cell_type": "markdown",
   "id": "d5cc79b7",
   "metadata": {},
   "source": [
    "Aula 1 - Configuração de ambiente Python"
   ]
  },
  {
   "cell_type": "code",
   "execution_count": 1,
   "id": "8f06e755",
   "metadata": {},
   "outputs": [
    {
     "name": "stdout",
     "output_type": "stream",
     "text": [
      "Inteligencia Artificial e Big Data\n"
     ]
    }
   ],
   "source": [
    "print(\"Inteligencia Artificial e Big Data\")"
   ]
  }
 ],
 "metadata": {
  "kernelspec": {
   "display_name": "Python 3",
   "language": "python",
   "name": "python3"
  },
  "language_info": {
   "codemirror_mode": {
    "name": "ipython",
    "version": 3
   },
   "file_extension": ".py",
   "mimetype": "text/x-python",
   "name": "python",
   "nbconvert_exporter": "python",
   "pygments_lexer": "ipython3",
   "version": "3.11.8"
  }
 },
 "nbformat": 4,
 "nbformat_minor": 5
}
